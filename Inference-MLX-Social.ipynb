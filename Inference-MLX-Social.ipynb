{
 "cells": [
  {
   "cell_type": "code",
   "execution_count": 53,
   "id": "a983de40-6f9d-45f3-b86c-cc305e130094",
   "metadata": {},
   "outputs": [],
   "source": [
    "from mlx_lm import load, generate\n",
    "\n",
    "model, tokenizer = load(\"./models/gemma3-1b-it/transformers\")"
   ]
  },
  {
   "cell_type": "code",
   "execution_count": 79,
   "id": "03f05a6f-cde0-4caa-a073-285130a038b5",
   "metadata": {},
   "outputs": [],
   "source": [
    "social_media_posts = [\n",
    "    {\"text\": \"Grass is blue\"},\n",
    "    {\"text\": \"We are the heros of the world\"}]\n",
    "\n",
    "s = \"---\\n\".join([post[\"text\"] + \"\\n\" for post in social_media_posts])"
   ]
  },
  {
   "cell_type": "code",
   "execution_count": 80,
   "id": "0d3d2f6d-84c0-442e-a931-f3da49b68fdb",
   "metadata": {},
   "outputs": [
    {
     "name": "stdout",
     "output_type": "stream",
     "text": [
      "<bos><start_of_turn>user\n",
      "You are a writer for social media posts. These are the most successful social media posts on our channel:\n",
      "---\n",
      "Grass is blue\n",
      "---\n",
      "We are the heros of the world\n",
      "---\n",
      "\n",
      "\n",
      "<end_of_turn>\n",
      "\n"
     ]
    }
   ],
   "source": [
    "prompt = tokenizer.apply_chat_template([\n",
    "    {\n",
    "        \"role\": \"system\", \n",
    "        \"content\": [{\"text\": \"You are a writer for social media posts. These are the most successful social media posts on our channel:\\n---\\n\" + s + \n",
    "         \"---\\n\"}]},\n",
    "    {\n",
    "        \"role\": \"user\", \n",
    "        \"text\": \"Make three suggestions for new social media posts based on the existing posts.\"\n",
    "    }])\n",
    "\n",
    "tokenizer.add_eos_token(106)\n",
    "print(tokenizer.decode(prompt))"
   ]
  },
  {
   "cell_type": "code",
   "execution_count": 81,
   "id": "96f28a79-a1a6-4b31-894c-7f7411f1da19",
   "metadata": {},
   "outputs": [
    {
     "name": "stdout",
     "output_type": "stream",
     "text": [
      "==========\n",
      "Okay, let's craft some social media posts for our channel, leaning into the themes of \"Grass is Blue\" and \"We are the heroes of the world.\"  I'll aim for a mix of engaging, slightly quirky, and inspiring. \n",
      "\n",
      "Here are a few options, varying in length and tone:\n",
      "\n",
      "**Option 1 (Short & Sweet - Twitter/X)**\n",
      "\n",
      "> \"Grass is blue. 💙  It's a reminder that even the smallest things can hold incredible beauty.  #GrassIsBlue #HeroicMoment\"\n",
      "\n",
      "**Option 2 (Slightly Longer - Instagram/Facebook)**\n",
      "\n",
      "> \"The world is a canvas, and grass is the most vibrant hue.  It's a simple truth, but a powerful one.  We are the heroes of the world, protecting and nurturing this beauty.  Let's make it a reality. ✨ #GrassIsBlue #HeroicMoment #ProtectOurPlanet\"\n",
      "\n",
      "**Option 3 (More Playful - TikTok/Instagram Reels)**\n",
      "\n",
      "> (Video - quick montage of beautiful grass shots, maybe with a slight filter effect)\n",
      ">  \"Seriously, grass is blue.  It's a metaphor for hope, resilience, and the incredible things we can achieve when we work together.  #GrassIsBlue #HeroicMoment #PositiveVibes\"\n",
      "\n",
      "**Option 4 (More Reflective - Facebook/Instagram)**\n",
      "\n",
      "> \"Sometimes, we need to look at the world with fresh eyes.  The simple truth of grass being blue – a color of peace, growth, and unwavering strength – reminds us that even in the face of challenges, we *are* the heroes of the world.  Let's choose kindness, action, and beauty. 💚 #GrassIsBlue #HeroicMoment #Hope\"\n",
      "\n",
      "---\n",
      "\n",
      "**To help me refine these further and tailor them even more specifically to your channel's style and audience, could you tell me:**\n",
      "\n",
      "*   **What platform are you primarily focusing on?** (e.g., Instagram, TikTok, Facebook, Twitter/X)\n",
      "*   **What's the overall tone of your channel?** (e.g., serious, funny, inspirational, quirky, etc.)\n",
      "*   **What kind of content do you typically post?** (e.g., photos, videos, stories, polls, etc.)\n",
      "==========\n",
      "Prompt: 47 tokens, 400.561 tokens-per-sec\n",
      "Generation: 492 tokens, 39.123 tokens-per-sec\n",
      "Peak memory: 4.017 GB\n"
     ]
    }
   ],
   "source": [
    "from mlx_lm.sample_utils import make_sampler\n",
    "\n",
    "text = generate(model, tokenizer, prompt=prompt, verbose=True, max_tokens=1000)"
   ]
  }
 ],
 "metadata": {
  "kernelspec": {
   "display_name": "gemma",
   "language": "python",
   "name": "gemma"
  },
  "language_info": {
   "codemirror_mode": {
    "name": "ipython",
    "version": 3
   },
   "file_extension": ".py",
   "mimetype": "text/x-python",
   "name": "python",
   "nbconvert_exporter": "python",
   "pygments_lexer": "ipython3",
   "version": "3.11.10"
  }
 },
 "nbformat": 4,
 "nbformat_minor": 5
}
