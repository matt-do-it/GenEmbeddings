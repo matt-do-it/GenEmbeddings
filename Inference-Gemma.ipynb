{
 "cells": [
  {
   "cell_type": "code",
   "execution_count": null,
   "id": "b3913c3d-d884-4277-8f09-2c110ec67cae",
   "metadata": {},
   "outputs": [],
   "source": [
    "import os"
   ]
  },
  {
   "cell_type": "code",
   "execution_count": null,
   "id": "e9c862f2-8c29-4f79-93ac-9f9803e01ed3",
   "metadata": {},
   "outputs": [],
   "source": [
    "os.environ[\"XLA_PYTHON_CLIENT_MEM_FRACTION\"]=\"1.00\""
   ]
  },
  {
   "cell_type": "code",
   "execution_count": null,
   "id": "dc23903c-3d57-4083-b968-a1a3ad8377e8",
   "metadata": {},
   "outputs": [],
   "source": [
    "# Common imports\n",
    "import os\n",
    "import jax\n",
    "import jax.numpy as jnp\n",
    "import tensorflow_datasets as tfds\n",
    "\n",
    "# Gemma imports\n",
    "from gemma import gm"
   ]
  },
  {
   "cell_type": "code",
   "execution_count": null,
   "id": "1d1c3c4c-0107-475b-b8e7-123af32e8f89",
   "metadata": {},
   "outputs": [],
   "source": [
    "GEMMA_PATH = \"./models/gemma3-1b-it/flax/\"\n",
    "\n",
    "CKPT_PATH = os.path.abspath(os.path.join(GEMMA_PATH, \"gemma3-1b-it\"))\n",
    "TOKENIZER_PATH = os.path.abspath(os.path.join(GEMMA_PATH, 'tokenizer.model'))"
   ]
  },
  {
   "cell_type": "code",
   "execution_count": null,
   "id": "d0ef3422-5dc9-478d-b0da-d893ef62dd1a",
   "metadata": {},
   "outputs": [],
   "source": [
    "model = gm.nn.Gemma3_1B()"
   ]
  },
  {
   "cell_type": "code",
   "execution_count": null,
   "id": "e9cc83b6-cadd-437c-922e-e8e9264c616f",
   "metadata": {},
   "outputs": [],
   "source": [
    "params = gm.ckpts.load_params(CKPT_PATH)"
   ]
  },
  {
   "cell_type": "code",
   "execution_count": null,
   "id": "2e850456-3a26-4543-b4c6-a6164d6e4ae0",
   "metadata": {},
   "outputs": [],
   "source": [
    "tokenizer = gm.text.Gemma3Tokenizer(TOKENIZER_PATH)"
   ]
  },
  {
   "cell_type": "code",
   "execution_count": null,
   "id": "b170c2a9-e277-46ea-91eb-bfc9d4f8a876",
   "metadata": {},
   "outputs": [],
   "source": [
    "sampler = gm.text.Sampler(\n",
    "    model=model,\n",
    "    params=params,\n",
    "    tokenizer=tokenizer\n",
    ")"
   ]
  },
  {
   "cell_type": "code",
   "execution_count": null,
   "id": "307059bf-edc2-43eb-8fb2-082002121e56",
   "metadata": {},
   "outputs": [],
   "source": [
    "prompt = \"\"\"<start_of_turn>user\n",
    "Give me a list of inspirational quotes.<end_of_turn>\n",
    "<start_of_turn>model\n",
    "\"\"\"\n",
    "\n",
    "out = sampler.sample(prompt, max_new_tokens=1000)\n",
    "print(out)"
   ]
  }
 ],
 "metadata": {
  "kernelspec": {
   "display_name": "gemma",
   "language": "python",
   "name": "gemma"
  },
  "language_info": {
   "codemirror_mode": {
    "name": "ipython",
    "version": 3
   },
   "file_extension": ".py",
   "mimetype": "text/x-python",
   "name": "python",
   "nbconvert_exporter": "python",
   "pygments_lexer": "ipython3",
   "version": "3.11.10"
  }
 },
 "nbformat": 4,
 "nbformat_minor": 5
}
