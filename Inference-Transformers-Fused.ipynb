{
 "cells": [
  {
   "cell_type": "markdown",
   "id": "b7197769-ed12-4d21-9d31-e1e6d5057506",
   "metadata": {},
   "source": [
    "## Model inference"
   ]
  },
  {
   "cell_type": "code",
   "execution_count": null,
   "id": "21ffdcbf-24ff-4bcb-821d-dfdd43987cba",
   "metadata": {},
   "outputs": [],
   "source": [
    "# Load model directly\n",
    "import os\n",
    "from transformers import Gemma3ForCausalLM, AutoTokenizer\n",
    "\n",
    "os.environ[\"PYTORCH_MPS_HIGH_WATERMARK_RATIO\"]=\"0.0\"\n",
    "\n",
    "tokenizer = AutoTokenizer.from_pretrained(\"./fused/gemma3-1b-it/transformers\")\n",
    "model = Gemma3ForCausalLM.from_pretrained(\"./fused/gemma3-1b-it/transformers\")\n",
    "model.eval()"
   ]
  },
  {
   "cell_type": "code",
   "execution_count": null,
   "id": "1bb171d4-63fc-4f6f-bb09-abca113014f1",
   "metadata": {},
   "outputs": [],
   "source": [
    "model_inputs = tokenizer([\"The stock market will go up in...\"], return_tensors=\"pt\")\n",
    "print(model_inputs)\n"
   ]
  },
  {
   "cell_type": "code",
   "execution_count": null,
   "id": "a8f33867-7eba-4112-97f6-5c416a9c39ec",
   "metadata": {},
   "outputs": [],
   "source": [
    "generated_ids = model.generate(**model_inputs, max_length=30)\n",
    "print(tokenizer.batch_decode(generated_ids)[0])"
   ]
  },
  {
   "cell_type": "code",
   "execution_count": null,
   "id": "5bc64c85-eff6-49dc-99e9-f9ef1203ee7b",
   "metadata": {},
   "outputs": [],
   "source": []
  }
 ],
 "metadata": {
  "kernelspec": {
   "display_name": "gemma",
   "language": "python",
   "name": "gemma"
  },
  "language_info": {
   "codemirror_mode": {
    "name": "ipython",
    "version": 3
   },
   "file_extension": ".py",
   "mimetype": "text/x-python",
   "name": "python",
   "nbconvert_exporter": "python",
   "pygments_lexer": "ipython3",
   "version": "3.11.10"
  }
 },
 "nbformat": 4,
 "nbformat_minor": 5
}
