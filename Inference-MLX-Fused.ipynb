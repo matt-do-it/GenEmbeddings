{
 "cells": [
  {
   "cell_type": "code",
   "execution_count": null,
   "id": "7ad32040-0c28-4683-bf79-38f5c6a66ed7",
   "metadata": {},
   "outputs": [],
   "source": [
    "## Load a fused model\n",
    "from mlx_lm import load, generate\n",
    "\n",
    "model, tokenizer = load(\"./fused/gemma3-1b-it/transformers\")"
   ]
  },
  {
   "cell_type": "code",
   "execution_count": null,
   "id": "c35351a0-d995-455e-878b-2613f775649f",
   "metadata": {},
   "outputs": [],
   "source": [
    "prompt = tokenizer.encode(\"The stock market will go up in...\")\n",
    "print(prompt)"
   ]
  },
  {
   "cell_type": "code",
   "execution_count": null,
   "id": "e51c8015-9a38-4502-aa64-19396236021c",
   "metadata": {},
   "outputs": [],
   "source": [
    "from mlx_lm.sample_utils import make_sampler\n",
    "sampler = make_sampler(1.0, top_p=2)\n",
    "\n",
    "text = generate(model, tokenizer, prompt=prompt, sampler=sampler, verbose=True)"
   ]
  }
 ],
 "metadata": {
  "kernelspec": {
   "display_name": "gemma",
   "language": "python",
   "name": "gemma"
  },
  "language_info": {
   "codemirror_mode": {
    "name": "ipython",
    "version": 3
   },
   "file_extension": ".py",
   "mimetype": "text/x-python",
   "name": "python",
   "nbconvert_exporter": "python",
   "pygments_lexer": "ipython3",
   "version": "3.11.10"
  }
 },
 "nbformat": 4,
 "nbformat_minor": 5
}
