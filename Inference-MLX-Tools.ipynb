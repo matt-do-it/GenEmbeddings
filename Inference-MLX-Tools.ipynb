{
 "cells": [
  {
   "cell_type": "code",
   "execution_count": 67,
   "id": "7ad32040-0c28-4683-bf79-38f5c6a66ed7",
   "metadata": {},
   "outputs": [],
   "source": [
    "from mlx_lm import load, generate\n",
    "from mlx_lm.generate import stream_generate\n",
    "\n",
    "import json"
   ]
  },
  {
   "cell_type": "code",
   "execution_count": 68,
   "id": "dac5a7b3-bda7-4624-bdde-4dc57d48fdc6",
   "metadata": {},
   "outputs": [],
   "source": [
    "model, tokenizer = load(\"./models/gemma3-1b-it/transformers\")"
   ]
  },
  {
   "cell_type": "code",
   "execution_count": 73,
   "id": "c35351a0-d995-455e-878b-2613f775649f",
   "metadata": {},
   "outputs": [],
   "source": [
    "prompt = tokenizer.apply_chat_template([{\n",
    "    \"role\": \"system\", \"content\": [{\n",
    "        \"text\": \"\"\"\n",
    "        You are Gemma, a helpful chat bot. \n",
    "        \n",
    "        You have access to functions. If you decide to invoke any of the function(s),\n",
    "        you MUST put it in the format of\n",
    "        {\"name\": function name, \"parameters\": dictionary of argument name and its value}. \n",
    "\n",
    "        The result is available as ```tool_output JSON```.\n",
    "        \n",
    "        You MUST NOT include any other text in the response if you call a function.\n",
    "        [\n",
    "          {\n",
    "            \"name\": \"get_stock_price\",\n",
    "            \"description\": \"Finds the stock price by a symbol\",\n",
    "            \"parameters\": {\n",
    "              \"type\": \"object\",\n",
    "              \"properties\": {\n",
    "                \"SYMBOL\": {\n",
    "                  \"type\": \"string\"\n",
    "                }\n",
    "              },\n",
    "              \"required\": [\n",
    "                \"SYMBOL\"\n",
    "              ]\n",
    "            }\n",
    "          }\n",
    "        ]\"\"\"\n",
    "    }]},\n",
    "    {\n",
    "        \"role\": \"user\", \n",
    "         \"content\": \"\"\"Can you find the stock price with the symbol APPL ?\"\"\"\n",
    "    }\n",
    "], add_generation_prompt=True)"
   ]
  },
  {
   "cell_type": "code",
   "execution_count": 76,
   "id": "f831af14-4c62-464c-97c1-224e4abfbf66",
   "metadata": {},
   "outputs": [],
   "source": [
    "class ResponseParser:\n",
    "    escape_mode = False\n",
    "    tool_mode = False\n",
    "\n",
    "    text = \"\"\n",
    "    tool = \"\"\n",
    "\n",
    "    had_tool = False \n",
    "    \n",
    "    def call_tool(self, tool_name, tool_parameters): \n",
    "        return {\"price\": 180}\n",
    "        \n",
    "    def add_response(self, response): \n",
    "        if not self.escape_mode and not self.tool_mode and response.token == 2717: \n",
    "            self.escape_mode = True\n",
    "            return\n",
    "\n",
    "        if self.escape_mode and not self.tool_mode and response.token == 107: \n",
    "            self.tool_mode = True\n",
    "            self.had_tool = True\n",
    "            return\n",
    "            \n",
    "        if self.escape_mode and self.tool_mode and response.token == 2717: \n",
    "            try: \n",
    "                parsed = json.loads(self.tool)\n",
    "\n",
    "                tool_name = parsed[\"name\"]\n",
    "                tool_parameters = parsed[\"parameters\"]\n",
    "\n",
    "                self.text += self.tool + \"```tool_output \" + json.dumps(self.call_tool(tool_name, tool_parameters)) + \"```\"\n",
    "            except Exception as error:\n",
    "                print(\"An exception occurred:\", error)\n",
    "                return\n",
    "            \n",
    "        if self.tool_mode: \n",
    "            self.tool += response.text\n",
    "            return\n",
    "\n",
    "        if self.escape_mode: \n",
    "            return\n",
    "            \n",
    "        self.text += response.text\n",
    "\n"
   ]
  },
  {
   "cell_type": "code",
   "execution_count": 81,
   "id": "98038731-ca1b-44e5-b784-bd799486f4fb",
   "metadata": {},
   "outputs": [
    {
     "name": "stdout",
     "output_type": "stream",
     "text": [
      "\n",
      "I found the stock price for APPL to be 180.<end_of_turn>\n"
     ]
    }
   ],
   "source": [
    "responseParser = ResponseParser()\n",
    "\n",
    "for response in stream_generate(model, tokenizer, prompt):\n",
    "    text += response.text\n",
    "    responseParser.add_response(response)\n",
    "\n",
    "    if response.token == 106: \n",
    "        break\n",
    "\n",
    "if responseParser.had_tool: \n",
    "    next_prompt = prompt + tokenizer.encode(responseParser.text + \\\n",
    "                                            \"<end_of_turn><start_of_turn>user Decide to call another function or summarize the results.<end_of_turn>\" + \\\n",
    "                                            \"<start_of_turn>model\", add_special_tokens = False)\n",
    "    final_response = \"\"\n",
    "else:\n",
    "    final_response = responseParser.text \n",
    "\n",
    "if next_prompt: \n",
    "    for response in stream_generate(model, tokenizer, next_prompt):\n",
    "        final_response += response.text\n",
    "    \n",
    "        if response.token == 106: \n",
    "            break\n",
    "\n",
    "print(final_response)\n",
    "\n"
   ]
  }
 ],
 "metadata": {
  "kernelspec": {
   "display_name": "gemma",
   "language": "python",
   "name": "gemma"
  },
  "language_info": {
   "codemirror_mode": {
    "name": "ipython",
    "version": 3
   },
   "file_extension": ".py",
   "mimetype": "text/x-python",
   "name": "python",
   "nbconvert_exporter": "python",
   "pygments_lexer": "ipython3",
   "version": "3.11.10"
  }
 },
 "nbformat": 4,
 "nbformat_minor": 5
}
